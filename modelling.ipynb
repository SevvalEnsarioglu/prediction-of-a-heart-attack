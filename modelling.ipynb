{
 "cells": [
  {
   "cell_type": "code",
   "execution_count": 187,
   "metadata": {},
   "outputs": [],
   "source": [
    "import numpy as np \n",
    "import pandas as pd\n",
    "import matplotlib.pyplot as plt\n",
    "import seaborn as sns\n",
    "from sklearn.linear_model import Lasso\n",
    "\n",
    "from sklearn.feature_selection import SelectKBest\n",
    "from sklearn.feature_selection import f_classif\n",
    "\n",
    "\n",
    "from sklearn.datasets import load_digits\n",
    "from sklearn.linear_model import LogisticRegression\n",
    "from sklearn.metrics import accuracy_score, roc_curve\n",
    "#veriyi eğitim ve test seti olarak ayırmak için train_test_split\n",
    "#modelin parametrelerinin kombinasyonlarından en iyi sonucu bulabilme işlemi için GridSearchCV\n",
    "from sklearn.model_selection import train_test_split, GridSearchCV \n",
    "\n",
    "#verileri standardize edip ölçeklendirme için StandardScaler. farklı özelliklerin değerleri arasındaki farkı azaltıp tüm veiriy aynı ölçeğe getirir\n",
    "from sklearn.preprocessing import StandardScaler, LabelEncoder\n",
    "\n",
    "#principal component analysis (PCA), veri setindeki boyutlatı en önemli özellikleri seçerek azaltmaya yarar\n",
    "from sklearn.decomposition import PCA\n",
    "\n",
    "# support vector machine\n",
    "from sklearn.svm import SVC\n",
    "\n",
    "#birçok model tahmininin oy birliği ile karara vardığı yöntem VotingClassifier\n",
    "from sklearn.ensemble import RandomForestClassifier, VotingClassifier\n",
    "\n",
    "#verileri en yakın komşularına göre sınıflandırır\n",
    "from sklearn.neighbors import KNeighborsClassifier\n",
    "\n",
    "#modelin doğruluğunu konfüzyon matrisinde değerlendirir, display ise matrisi görselleştirme aracıdır\n",
    "from sklearn.metrics import confusion_matrix, ConfusionMatrixDisplay"
   ]
  },
  {
   "cell_type": "code",
   "execution_count": 188,
   "metadata": {},
   "outputs": [],
   "source": [
    "#load digits fonksiyonu el yazısı rakamlar içeren bir veri setini yükler, bu veri setini modelimizi eğitmede kullanacağız.\n",
    "digits = load_digits()\n",
    "\n",
    "# data, feature ları içerir. target ise labelları içerir. x girdileri y çıktıları temsil eder\n",
    "X, y = digits.data, digits.target\n",
    "\n",
    "X_train, X_test, y_train, y_test = train_test_split(X, y, test_size=0.2)\n",
    "\n",
    "#veriyi standardize etmek için standart scaler nesnesi oluşturulur. bu nesne veriyi ortalama 0 standart sapması 1 olacak şekilde ölçeklendirir\n",
    "scaler = StandardScaler()\n",
    "#eğitim verisinin fit (uyum sağlama) işlemi yapılır ve aynı zamanda veriler dönüştürülür. verilerin ölçeklendirilmesi işlemini gerçekleştirir\n",
    "X_train_scaled = scaler.fit_transform(X_train)\n",
    "#test verisini sadece dönüştürür ancak eğitim verisindeki bilgiye dayalı olarak yapılır. \n",
    "# bu sayede eğitim ve test verisi aynı ölçekleme işlemin etabi tutulur\n",
    "X_test_scaled = scaler.transform(X_test)"
   ]
  },
  {
   "cell_type": "code",
   "execution_count": 189,
   "metadata": {},
   "outputs": [
    {
     "name": "stdout",
     "output_type": "stream",
     "text": [
      "<class 'pandas.core.frame.DataFrame'>\n",
      "RangeIndex: 8763 entries, 0 to 8762\n",
      "Data columns (total 13 columns):\n",
      " #   Column                    Non-Null Count  Dtype  \n",
      "---  ------                    --------------  -----  \n",
      " 0   Age                       8763 non-null   int64  \n",
      " 1   Cholesterol               8763 non-null   int64  \n",
      " 2   Diabetes                  8763 non-null   int64  \n",
      " 3   Obesity                   8763 non-null   int64  \n",
      " 4   Alcohol Consumption       8763 non-null   int64  \n",
      " 5   Exercise Hours Per Week   8763 non-null   float64\n",
      " 6   Income                    8763 non-null   int64  \n",
      " 7   Triglycerides             8763 non-null   int64  \n",
      " 8   Sleep Hours Per Day       8763 non-null   int64  \n",
      " 9   Hemisphere                8763 non-null   int64  \n",
      " 10  Systolic Blood Pressure   8763 non-null   int64  \n",
      " 11  Diastolic Blood Pressure  8763 non-null   int64  \n",
      " 12  Heart Attack Risk         8763 non-null   int64  \n",
      "dtypes: float64(1), int64(12)\n",
      "memory usage: 890.1 KB\n",
      "None\n"
     ]
    }
   ],
   "source": [
    "df = pd.read_csv(\"used_dataset.csv\")\n",
    "# DataFrame'in veri tiplerini yazdırmak\n",
    "print(df.info())"
   ]
  },
  {
   "cell_type": "markdown",
   "metadata": {},
   "source": [
    "Outlier detection"
   ]
  },
  {
   "cell_type": "code",
   "execution_count": 190,
   "metadata": {},
   "outputs": [],
   "source": [
    "X = df.drop('Heart Attack Risk', axis=1)\n",
    "y = df['Heart Attack Risk']"
   ]
  },
  {
   "cell_type": "code",
   "execution_count": 191,
   "metadata": {},
   "outputs": [
    {
     "data": {
      "text/html": [
       "<div>\n",
       "<style scoped>\n",
       "    .dataframe tbody tr th:only-of-type {\n",
       "        vertical-align: middle;\n",
       "    }\n",
       "\n",
       "    .dataframe tbody tr th {\n",
       "        vertical-align: top;\n",
       "    }\n",
       "\n",
       "    .dataframe thead th {\n",
       "        text-align: right;\n",
       "    }\n",
       "</style>\n",
       "<table border=\"1\" class=\"dataframe\">\n",
       "  <thead>\n",
       "    <tr style=\"text-align: right;\">\n",
       "      <th></th>\n",
       "      <th>Age</th>\n",
       "      <th>Cholesterol</th>\n",
       "      <th>Diabetes</th>\n",
       "      <th>Obesity</th>\n",
       "      <th>Alcohol Consumption</th>\n",
       "      <th>Exercise Hours Per Week</th>\n",
       "      <th>Income</th>\n",
       "      <th>Triglycerides</th>\n",
       "      <th>Sleep Hours Per Day</th>\n",
       "      <th>Hemisphere</th>\n",
       "      <th>Systolic Blood Pressure</th>\n",
       "      <th>Diastolic Blood Pressure</th>\n",
       "    </tr>\n",
       "  </thead>\n",
       "  <tbody>\n",
       "    <tr>\n",
       "      <th>count</th>\n",
       "      <td>8763.000000</td>\n",
       "      <td>8763.000000</td>\n",
       "      <td>8763.000000</td>\n",
       "      <td>8763.000000</td>\n",
       "      <td>8763.000000</td>\n",
       "      <td>8763.000000</td>\n",
       "      <td>8763.000000</td>\n",
       "      <td>8763.000000</td>\n",
       "      <td>8763.000000</td>\n",
       "      <td>8763.000000</td>\n",
       "      <td>8763.000000</td>\n",
       "      <td>8763.000000</td>\n",
       "    </tr>\n",
       "    <tr>\n",
       "      <th>mean</th>\n",
       "      <td>53.707977</td>\n",
       "      <td>259.877211</td>\n",
       "      <td>0.652288</td>\n",
       "      <td>0.501426</td>\n",
       "      <td>0.598083</td>\n",
       "      <td>10.014284</td>\n",
       "      <td>158263.181901</td>\n",
       "      <td>417.677051</td>\n",
       "      <td>7.023508</td>\n",
       "      <td>0.645898</td>\n",
       "      <td>135.075659</td>\n",
       "      <td>85.156111</td>\n",
       "    </tr>\n",
       "    <tr>\n",
       "      <th>std</th>\n",
       "      <td>21.249509</td>\n",
       "      <td>80.863276</td>\n",
       "      <td>0.476271</td>\n",
       "      <td>0.500026</td>\n",
       "      <td>0.490313</td>\n",
       "      <td>5.783745</td>\n",
       "      <td>80575.190806</td>\n",
       "      <td>223.748137</td>\n",
       "      <td>1.988473</td>\n",
       "      <td>0.478268</td>\n",
       "      <td>26.349976</td>\n",
       "      <td>14.676565</td>\n",
       "    </tr>\n",
       "    <tr>\n",
       "      <th>min</th>\n",
       "      <td>18.000000</td>\n",
       "      <td>120.000000</td>\n",
       "      <td>0.000000</td>\n",
       "      <td>0.000000</td>\n",
       "      <td>0.000000</td>\n",
       "      <td>0.002442</td>\n",
       "      <td>20062.000000</td>\n",
       "      <td>30.000000</td>\n",
       "      <td>4.000000</td>\n",
       "      <td>0.000000</td>\n",
       "      <td>90.000000</td>\n",
       "      <td>60.000000</td>\n",
       "    </tr>\n",
       "    <tr>\n",
       "      <th>25%</th>\n",
       "      <td>35.000000</td>\n",
       "      <td>192.000000</td>\n",
       "      <td>0.000000</td>\n",
       "      <td>0.000000</td>\n",
       "      <td>0.000000</td>\n",
       "      <td>4.981579</td>\n",
       "      <td>88310.000000</td>\n",
       "      <td>225.500000</td>\n",
       "      <td>5.000000</td>\n",
       "      <td>0.000000</td>\n",
       "      <td>112.000000</td>\n",
       "      <td>72.000000</td>\n",
       "    </tr>\n",
       "    <tr>\n",
       "      <th>50%</th>\n",
       "      <td>54.000000</td>\n",
       "      <td>259.000000</td>\n",
       "      <td>1.000000</td>\n",
       "      <td>1.000000</td>\n",
       "      <td>1.000000</td>\n",
       "      <td>10.069559</td>\n",
       "      <td>157866.000000</td>\n",
       "      <td>417.000000</td>\n",
       "      <td>7.000000</td>\n",
       "      <td>1.000000</td>\n",
       "      <td>135.000000</td>\n",
       "      <td>85.000000</td>\n",
       "    </tr>\n",
       "    <tr>\n",
       "      <th>75%</th>\n",
       "      <td>72.000000</td>\n",
       "      <td>330.000000</td>\n",
       "      <td>1.000000</td>\n",
       "      <td>1.000000</td>\n",
       "      <td>1.000000</td>\n",
       "      <td>15.050018</td>\n",
       "      <td>227749.000000</td>\n",
       "      <td>612.000000</td>\n",
       "      <td>9.000000</td>\n",
       "      <td>1.000000</td>\n",
       "      <td>158.000000</td>\n",
       "      <td>98.000000</td>\n",
       "    </tr>\n",
       "    <tr>\n",
       "      <th>max</th>\n",
       "      <td>90.000000</td>\n",
       "      <td>400.000000</td>\n",
       "      <td>1.000000</td>\n",
       "      <td>1.000000</td>\n",
       "      <td>1.000000</td>\n",
       "      <td>19.998709</td>\n",
       "      <td>299954.000000</td>\n",
       "      <td>800.000000</td>\n",
       "      <td>10.000000</td>\n",
       "      <td>1.000000</td>\n",
       "      <td>180.000000</td>\n",
       "      <td>110.000000</td>\n",
       "    </tr>\n",
       "  </tbody>\n",
       "</table>\n",
       "</div>"
      ],
      "text/plain": [
       "               Age  Cholesterol     Diabetes      Obesity  \\\n",
       "count  8763.000000  8763.000000  8763.000000  8763.000000   \n",
       "mean     53.707977   259.877211     0.652288     0.501426   \n",
       "std      21.249509    80.863276     0.476271     0.500026   \n",
       "min      18.000000   120.000000     0.000000     0.000000   \n",
       "25%      35.000000   192.000000     0.000000     0.000000   \n",
       "50%      54.000000   259.000000     1.000000     1.000000   \n",
       "75%      72.000000   330.000000     1.000000     1.000000   \n",
       "max      90.000000   400.000000     1.000000     1.000000   \n",
       "\n",
       "       Alcohol Consumption  Exercise Hours Per Week         Income  \\\n",
       "count          8763.000000              8763.000000    8763.000000   \n",
       "mean              0.598083                10.014284  158263.181901   \n",
       "std               0.490313                 5.783745   80575.190806   \n",
       "min               0.000000                 0.002442   20062.000000   \n",
       "25%               0.000000                 4.981579   88310.000000   \n",
       "50%               1.000000                10.069559  157866.000000   \n",
       "75%               1.000000                15.050018  227749.000000   \n",
       "max               1.000000                19.998709  299954.000000   \n",
       "\n",
       "       Triglycerides  Sleep Hours Per Day   Hemisphere  \\\n",
       "count    8763.000000          8763.000000  8763.000000   \n",
       "mean      417.677051             7.023508     0.645898   \n",
       "std       223.748137             1.988473     0.478268   \n",
       "min        30.000000             4.000000     0.000000   \n",
       "25%       225.500000             5.000000     0.000000   \n",
       "50%       417.000000             7.000000     1.000000   \n",
       "75%       612.000000             9.000000     1.000000   \n",
       "max       800.000000            10.000000     1.000000   \n",
       "\n",
       "       Systolic Blood Pressure  Diastolic Blood Pressure  \n",
       "count              8763.000000               8763.000000  \n",
       "mean                135.075659                 85.156111  \n",
       "std                  26.349976                 14.676565  \n",
       "min                  90.000000                 60.000000  \n",
       "25%                 112.000000                 72.000000  \n",
       "50%                 135.000000                 85.000000  \n",
       "75%                 158.000000                 98.000000  \n",
       "max                 180.000000                110.000000  "
      ]
     },
     "execution_count": 191,
     "metadata": {},
     "output_type": "execute_result"
    }
   ],
   "source": [
    "#IQR yöntemi kullanacağız\n",
    "X.describe()"
   ]
  },
  {
   "cell_type": "code",
   "execution_count": 192,
   "metadata": {},
   "outputs": [
    {
     "name": "stdout",
     "output_type": "stream",
     "text": [
      "old shape: (8763, 13)\n",
      "new shape: (8763, 13)\n",
      "old shape: (8763, 13)\n",
      "new shape: (8763, 13)\n",
      "old shape: (8763, 13)\n",
      "new shape: (8763, 13)\n",
      "old shape: (8763, 13)\n",
      "new shape: (8763, 13)\n",
      "old shape: (8763, 13)\n",
      "new shape: (8763, 13)\n",
      "old shape: (8763, 13)\n",
      "new shape: (8763, 13)\n",
      "old shape: (8763, 13)\n",
      "new shape: (8763, 13)\n",
      "old shape: (8763, 13)\n",
      "new shape: (8763, 13)\n",
      "old shape: (8763, 13)\n",
      "new shape: (8763, 13)\n",
      "old shape: (8763, 13)\n",
      "new shape: (8763, 13)\n",
      "old shape: (8763, 13)\n",
      "new shape: (8763, 13)\n",
      "old shape: (8763, 13)\n",
      "new shape: (8763, 13)\n",
      "old shape: (8763, 13)\n",
      "new shape: (8763, 13)\n"
     ]
    }
   ],
   "source": [
    "for i in df.columns:\n",
    "    Q1 = np.percentile(df[i].dropna(), 25)  # Eksik verileri kaldırarak işlem yap\n",
    "    Q3 = np.percentile(df[i].dropna(), 75)\n",
    "    IQR = Q3 - Q1\n",
    "\n",
    "    print(f\"old shape: {df.shape}\")\n",
    "\n",
    "    # Üst ve alt sınırları hesaplayarak aykırı değerleri kaldır\n",
    "    upper = np.where(df[i] > (Q3 + 1.5 * IQR))\n",
    "    lower = np.where(df[i] < (Q1 - 1.5 * IQR))\n",
    "\n",
    "    # Üst sınırları kaldır\n",
    "    df.drop(upper[0], inplace=True)\n",
    "    # Alt sınırları kaldır\n",
    "    df.drop(lower[0], inplace=True)\n",
    "\n",
    "    # İndeksleri sıfırla\n",
    "    df.reset_index(drop=True, inplace=True)\n",
    "\n",
    "    print(f\"new shape: {df.shape}\")\n"
   ]
  },
  {
   "cell_type": "markdown",
   "metadata": {},
   "source": [
    "# Modelling"
   ]
  },
  {
   "cell_type": "code",
   "execution_count": 193,
   "metadata": {},
   "outputs": [
    {
     "name": "stdout",
     "output_type": "stream",
     "text": [
      "<class 'pandas.core.frame.DataFrame'>\n",
      "RangeIndex: 8763 entries, 0 to 8762\n",
      "Data columns (total 13 columns):\n",
      " #   Column                    Non-Null Count  Dtype  \n",
      "---  ------                    --------------  -----  \n",
      " 0   Age                       8763 non-null   int64  \n",
      " 1   Cholesterol               8763 non-null   int64  \n",
      " 2   Diabetes                  8763 non-null   int64  \n",
      " 3   Obesity                   8763 non-null   int64  \n",
      " 4   Alcohol Consumption       8763 non-null   int64  \n",
      " 5   Exercise Hours Per Week   8763 non-null   float64\n",
      " 6   Income                    8763 non-null   int64  \n",
      " 7   Triglycerides             8763 non-null   int64  \n",
      " 8   Sleep Hours Per Day       8763 non-null   int64  \n",
      " 9   Hemisphere                8763 non-null   int64  \n",
      " 10  Systolic Blood Pressure   8763 non-null   int64  \n",
      " 11  Diastolic Blood Pressure  8763 non-null   int64  \n",
      " 12  Heart Attack Risk         8763 non-null   int64  \n",
      "dtypes: float64(1), int64(12)\n",
      "memory usage: 890.1 KB\n"
     ]
    }
   ],
   "source": [
    "df.info()"
   ]
  },
  {
   "cell_type": "code",
   "execution_count": 194,
   "metadata": {},
   "outputs": [],
   "source": [
    "X = df.drop('Heart Attack Risk', axis=1)\n",
    "y = df['Heart Attack Risk']"
   ]
  },
  {
   "cell_type": "code",
   "execution_count": 195,
   "metadata": {},
   "outputs": [],
   "source": [
    "#scaling\n",
    "scaler = StandardScaler()\n",
    "X = scaler.fit_transform(X)\n"
   ]
  },
  {
   "cell_type": "code",
   "execution_count": 196,
   "metadata": {},
   "outputs": [
    {
     "data": {
      "text/plain": [
       "array([[0.65424094, 0.34575906],\n",
       "       [0.5822397 , 0.4177603 ],\n",
       "       [0.64279425, 0.35720575],\n",
       "       ...,\n",
       "       [0.64647028, 0.35352972],\n",
       "       [0.68051424, 0.31948576],\n",
       "       [0.61734704, 0.38265296]], shape=(1753, 2))"
      ]
     },
     "execution_count": 196,
     "metadata": {},
     "output_type": "execute_result"
    }
   ],
   "source": [
    "#train test split\n",
    "X_train, X_test, y_train, y_test = train_test_split(X, y, test_size=0.2, random_state=42)\n",
    "\n",
    "#logistic regression model\n",
    "logreg = LogisticRegression()\n",
    "logreg.fit(X_train, y_train)\n",
    "\n",
    "y_pred_prob = logreg.predict_proba(X_test)\n",
    "\n",
    "y_pred_prob\n"
   ]
  },
  {
   "cell_type": "code",
   "execution_count": 197,
   "metadata": {},
   "outputs": [
    {
     "name": "stdout",
     "output_type": "stream",
     "text": [
      "test accurary: 0.6417569880205363\n"
     ]
    }
   ],
   "source": [
    "y_pred = np.argmax(y_pred_prob, axis=1)\n",
    "y_pred\n",
    "print(f\"test accurary: {accuracy_score(y_test, y_pred)}\")"
   ]
  },
  {
   "cell_type": "code",
   "execution_count": 198,
   "metadata": {},
   "outputs": [
    {
     "data": {
      "text/plain": [
       "<function matplotlib.pyplot.show(close=None, block=None)>"
      ]
     },
     "execution_count": 198,
     "metadata": {},
     "output_type": "execute_result"
    },
    {
     "data": {
      "image/png": "[encoded data removed]",
      "text/plain": [
       "<Figure size 640x480 with 1 Axes>"
      ]
     },
     "metadata": {},
     "output_type": "display_data"
    }
   ],
   "source": [
    "#roc curve\n",
    "fpr, tpr, threshold = roc_curve(y_test, y_pred_prob[:,1])\n",
    "\n",
    "#plot curve\n",
    "plt.plot([0,1], [0,1], \"k--\")\n",
    "plt.plot(fpr, tpr, label = \"Logistic Regression\")\n",
    "plt.xlabel(\"False Positive Rate\") \n",
    "plt.ylabel(\"True Positive Rate\")\n",
    "plt.title(\"Logistic Regression ROC Curve\")\n",
    "plt.show"
   ]
  },
  {
   "cell_type": "code",
   "execution_count": 204,
   "metadata": {},
   "outputs": [
    {
     "name": "stdout",
     "output_type": "stream",
     "text": [
      "Best parameters: {'penalty': 'l2'}\n",
      "Test accuracy: 0.6417569880205363\n"
     ]
    },
    {
     "name": "stderr",
     "output_type": "stream",
     "text": [
      "/Library/Frameworks/Python.framework/Versions/3.12/lib/python3.12/site-packages/sklearn/model_selection/_validation.py:528: FitFailedWarning: \n",
      "5 fits failed out of a total of 10.\n",
      "The score on these train-test partitions for these parameters will be set to nan.\n",
      "If these failures are not expected, you can try to debug them by setting error_score='raise'.\n",
      "\n",
      "Below are more details about the failures:\n",
      "--------------------------------------------------------------------------------\n",
      "5 fits failed with the following error:\n",
      "Traceback (most recent call last):\n",
      "  File \"/Library/Frameworks/Python.framework/Versions/3.12/lib/python3.12/site-packages/sklearn/model_selection/_validation.py\", line 866, in _fit_and_score\n",
      "    estimator.fit(X_train, y_train, **fit_params)\n",
      "  File \"/Library/Frameworks/Python.framework/Versions/3.12/lib/python3.12/site-packages/sklearn/base.py\", line 1389, in wrapper\n",
      "    return fit_method(estimator, *args, **kwargs)\n",
      "           ^^^^^^^^^^^^^^^^^^^^^^^^^^^^^^^^^^^^^^\n",
      "  File \"/Library/Frameworks/Python.framework/Versions/3.12/lib/python3.12/site-packages/sklearn/linear_model/_logistic.py\", line 1193, in fit\n",
      "    solver = _check_solver(self.solver, self.penalty, self.dual)\n",
      "             ^^^^^^^^^^^^^^^^^^^^^^^^^^^^^^^^^^^^^^^^^^^^^^^^^^^\n",
      "  File \"/Library/Frameworks/Python.framework/Versions/3.12/lib/python3.12/site-packages/sklearn/linear_model/_logistic.py\", line 63, in _check_solver\n",
      "    raise ValueError(\n",
      "ValueError: Solver lbfgs supports only 'l2' or None penalties, got l1 penalty.\n",
      "\n",
      "  warnings.warn(some_fits_failed_message, FitFailedWarning)\n",
      "/Library/Frameworks/Python.framework/Versions/3.12/lib/python3.12/site-packages/sklearn/model_selection/_search.py:1107: UserWarning: One or more of the test scores are non-finite: [       nan 0.64179743]\n",
      "  warnings.warn(\n"
     ]
    }
   ],
   "source": [
    "# hyperparameter tuning\n",
    "lr = LogisticRegression()\n",
    "penalty = ['l1', 'l2']  \n",
    "parameters = {\"penalty\": penalty}\n",
    "\n",
    "lr_searcher = GridSearchCV(lr, parameters)\n",
    "lr_searcher.fit(X_train, y_train)\n",
    "\n",
    "print(f\"Best parameters: {lr_searcher.best_params_}\")\n",
    "y_pred = lr_searcher.predict(X_test)\n",
    "print(f\"Test accuracy: {accuracy_score(y_test, y_pred)}\")"
   ]
  }
 ],
 "metadata": {
  "kernelspec": {
   "display_name": "Python 3",
   "language": "python",
   "name": "python3"
  },
  "language_info": {
   "codemirror_mode": {
    "name": "ipython",
    "version": 3
   },
   "file_extension": ".py",
   "mimetype": "text/x-python",
   "name": "python",
   "nbconvert_exporter": "python",
   "pygments_lexer": "ipython3",
   "version": "3.12.1"
  }
 },
 "nbformat": 4,
 "nbformat_minor": 2
}
